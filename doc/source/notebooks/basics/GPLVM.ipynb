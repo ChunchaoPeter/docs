{
 "cells": [
  {
   "cell_type": "markdown",
   "metadata": {},
   "source": [
    "# Bayesian Gaussian process latent variable model (Bayesian GPLVM)\n",
    "This notebook shows how to use the Bayesian GPLVM model. This is an unsupervised learning method usually used for dimensionality reduction. For an in-depth overview of GPLVMs,see **[1, 2]**."
   ]
  },
  {
   "cell_type": "code",
   "execution_count": 1,
   "metadata": {
    "execution": {
     "iopub.execute_input": "2020-10-07T16:34:34.101839Z",
     "iopub.status.busy": "2020-10-07T16:34:34.100704Z",
     "iopub.status.idle": "2020-10-07T16:34:36.547388Z",
     "shell.execute_reply": "2020-10-07T16:34:36.546945Z"
    }
   },
   "outputs": [],
   "source": [
    "import gpflow\n",
    "import numpy as np\n",
    "\n",
    "import matplotlib.pyplot as plt\n",
    "import tensorflow as tf\n",
    "\n",
    "import gpflow\n",
    "from gpflow.utilities import ops, print_summary\n",
    "from gpflow.config import set_default_float, default_float, set_default_summary_fmt\n",
    "from gpflow.ci_utils import ci_niter\n",
    "\n",
    "set_default_float(np.float64)\n",
    "set_default_summary_fmt(\"notebook\")\n",
    "\n",
    "%matplotlib inline"
   ]
  },
  {
   "cell_type": "markdown",
   "metadata": {},
   "source": [
    "## Data\n",
    "We are using the \"three phase oil flow\" dataset used initially for demonstrating the Generative Topographic mapping from **[3]**."
   ]
  },
  {
   "cell_type": "code",
   "execution_count": 2,
   "metadata": {
    "execution": {
     "iopub.execute_input": "2020-10-07T16:34:36.550486Z",
     "iopub.status.busy": "2020-10-07T16:34:36.550038Z",
     "iopub.status.idle": "2020-10-07T16:34:36.552269Z",
     "shell.execute_reply": "2020-10-07T16:34:36.552633Z"
    }
   },
   "outputs": [],
   "source": [
    "data = np.load(\"./data/three_phase_oil_flow.npz\")"
   ]
  },
  {
   "cell_type": "markdown",
   "metadata": {},
   "source": [
    "Following the GPflow notation we assume this dataset has a shape of `[num_data, output_dim]`"
   ]
  },
  {
   "cell_type": "code",
   "execution_count": 3,
   "metadata": {
    "execution": {
     "iopub.execute_input": "2020-10-07T16:34:36.555732Z",
     "iopub.status.busy": "2020-10-07T16:34:36.555304Z",
     "iopub.status.idle": "2020-10-07T16:34:36.557249Z",
     "shell.execute_reply": "2020-10-07T16:34:36.557618Z"
    }
   },
   "outputs": [],
   "source": [
    "Y = tf.convert_to_tensor(data[\"Y\"], dtype=default_float())"
   ]
  },
  {
   "cell_type": "markdown",
   "metadata": {},
   "source": [
    "Integer in $[0, 2]$ indicating to which class the data point belongs (shape `[num_data,]`). Not used for model fitting, only for plotting afterwards."
   ]
  },
  {
   "cell_type": "code",
   "execution_count": 4,
   "metadata": {
    "execution": {
     "iopub.execute_input": "2020-10-07T16:34:36.560919Z",
     "iopub.status.busy": "2020-10-07T16:34:36.560492Z",
     "iopub.status.idle": "2020-10-07T16:34:36.562241Z",
     "shell.execute_reply": "2020-10-07T16:34:36.561884Z"
    }
   },
   "outputs": [],
   "source": [
    "labels = tf.convert_to_tensor(data[\"labels\"])"
   ]
  },
  {
   "cell_type": "code",
   "execution_count": 5,
   "metadata": {
    "execution": {
     "iopub.execute_input": "2020-10-07T16:34:36.565244Z",
     "iopub.status.busy": "2020-10-07T16:34:36.564825Z",
     "iopub.status.idle": "2020-10-07T16:34:36.566948Z",
     "shell.execute_reply": "2020-10-07T16:34:36.567310Z"
    }
   },
   "outputs": [
    {
     "name": "stdout",
     "output_type": "stream",
     "text": [
      "Number of points: 100 and Number of dimensions: 12\n"
     ]
    }
   ],
   "source": [
    "print(\"Number of points: {} and Number of dimensions: {}\".format(Y.shape[0], Y.shape[1]))"
   ]
  },
  {
   "cell_type": "markdown",
   "metadata": {},
   "source": [
    "## Model construction\n",
    "\n",
    "We start by initializing the required variables:"
   ]
  },
  {
   "cell_type": "code",
   "execution_count": 6,
   "metadata": {
    "execution": {
     "iopub.execute_input": "2020-10-07T16:34:36.570486Z",
     "iopub.status.busy": "2020-10-07T16:34:36.570050Z",
     "iopub.status.idle": "2020-10-07T16:34:36.571294Z",
     "shell.execute_reply": "2020-10-07T16:34:36.571634Z"
    }
   },
   "outputs": [],
   "source": [
    "latent_dim = 2  # number of latent dimensions\n",
    "num_inducing = 20  # number of inducing pts\n",
    "num_data = Y.shape[0]  # number of data points"
   ]
  },
  {
   "cell_type": "markdown",
   "metadata": {},
   "source": [
    "Initialize via PCA:"
   ]
  },
  {
   "cell_type": "code",
   "execution_count": 7,
   "metadata": {
    "execution": {
     "iopub.execute_input": "2020-10-07T16:34:36.574855Z",
     "iopub.status.busy": "2020-10-07T16:34:36.574248Z",
     "iopub.status.idle": "2020-10-07T16:34:36.584183Z",
     "shell.execute_reply": "2020-10-07T16:34:36.583797Z"
    }
   },
   "outputs": [],
   "source": [
    "X_mean_init = ops.pca_reduce(Y, latent_dim)\n",
    "X_var_init = tf.ones((num_data, latent_dim), dtype=default_float())"
   ]
  },
  {
   "cell_type": "markdown",
   "metadata": {},
   "source": [
    "Pick inducing inputs randomly from dataset initialization:"
   ]
  },
  {
   "cell_type": "code",
   "execution_count": 8,
   "metadata": {
    "execution": {
     "iopub.execute_input": "2020-10-07T16:34:36.587751Z",
     "iopub.status.busy": "2020-10-07T16:34:36.587313Z",
     "iopub.status.idle": "2020-10-07T16:34:36.588672Z",
     "shell.execute_reply": "2020-10-07T16:34:36.589011Z"
    }
   },
   "outputs": [],
   "source": [
    "np.random.seed(1)  # for reproducibility\n",
    "inducing_variable = tf.convert_to_tensor(\n",
    "    np.random.permutation(X_mean_init.numpy())[:num_inducing], dtype=default_float()\n",
    ")"
   ]
  },
  {
   "cell_type": "markdown",
   "metadata": {},
   "source": [
    "We construct a Squared Exponential (SE) kernel operating on the two-dimensional latent space.\n",
    "The `ARD` parameter stands for Automatic Relevance Determination, which in practice means that\n",
    "we learn a different lengthscale for each of the input dimensions. See [Manipulating kernels](../advanced/kernels.ipynb) for more information."
   ]
  },
  {
   "cell_type": "code",
   "execution_count": 9,
   "metadata": {
    "execution": {
     "iopub.execute_input": "2020-10-07T16:34:36.594401Z",
     "iopub.status.busy": "2020-10-07T16:34:36.593971Z",
     "iopub.status.idle": "2020-10-07T16:34:36.599625Z",
     "shell.execute_reply": "2020-10-07T16:34:36.599237Z"
    }
   },
   "outputs": [],
   "source": [
    "lengthscales = tf.convert_to_tensor([1.0] * latent_dim, dtype=default_float())\n",
    "kernel = gpflow.kernels.RBF(lengthscales=lengthscales)"
   ]
  },
  {
   "cell_type": "markdown",
   "metadata": {},
   "source": [
    "We have all the necessary ingredients to construct the model. GPflow contains an implementation of the Bayesian GPLVM:"
   ]
  },
  {
   "cell_type": "code",
   "execution_count": 10,
   "metadata": {
    "execution": {
     "iopub.execute_input": "2020-10-07T16:34:36.603759Z",
     "iopub.status.busy": "2020-10-07T16:34:36.603325Z",
     "iopub.status.idle": "2020-10-07T16:34:36.613246Z",
     "shell.execute_reply": "2020-10-07T16:34:36.612846Z"
    }
   },
   "outputs": [],
   "source": [
    "gplvm = gpflow.models.BayesianGPLVM(\n",
    "    Y,\n",
    "    X_data_mean=X_mean_init,\n",
    "    X_data_var=X_var_init,\n",
    "    kernel=kernel,\n",
    "    inducing_variable=inducing_variable,\n",
    ")\n",
    "# Instead of passing an inducing_variable directly, we can also set the num_inducing_variables argument to an integer, which will randomly pick from the data."
   ]
  },
  {
   "cell_type": "markdown",
   "metadata": {},
   "source": [
    "We change the default likelihood variance, which is 1, to 0.01."
   ]
  },
  {
   "cell_type": "code",
   "execution_count": 11,
   "metadata": {
    "execution": {
     "iopub.execute_input": "2020-10-07T16:34:36.616845Z",
     "iopub.status.busy": "2020-10-07T16:34:36.616274Z",
     "iopub.status.idle": "2020-10-07T16:34:36.620881Z",
     "shell.execute_reply": "2020-10-07T16:34:36.621231Z"
    }
   },
   "outputs": [
    {
     "data": {
      "text/plain": [
       "<tf.Variable 'UnreadVariable' shape=() dtype=float64, numpy=-4.600266525158521>"
      ]
     },
     "execution_count": 1,
     "metadata": {},
     "output_type": "execute_result"
    }
   ],
   "source": [
    "gplvm.likelihood.variance.assign(0.01)"
   ]
  },
  {
   "cell_type": "markdown",
   "metadata": {},
   "source": [
    "Next we optimize the created model. Given that this model has a deterministic evidence lower bound (ELBO), we can use SciPy's BFGS optimizer."
   ]
  },
  {
   "cell_type": "code",
   "execution_count": 12,
   "metadata": {
    "execution": {
     "iopub.execute_input": "2020-10-07T16:34:36.639455Z",
     "iopub.status.busy": "2020-10-07T16:34:36.638983Z",
     "iopub.status.idle": "2020-10-07T16:35:04.148985Z",
     "shell.execute_reply": "2020-10-07T16:35:04.149406Z"
    }
   },
   "outputs": [
    {
     "name": "stdout",
     "output_type": "stream",
     "text": [
      "WARNING:tensorflow:From /home/circleci/.local/lib/python3.6/site-packages/tensorflow/python/ops/math_grad.py:297: setdiff1d (from tensorflow.python.ops.array_ops) is deprecated and will be removed after 2018-11-30.\n",
      "Instructions for updating:\n",
      "This op will be removed after the deprecation date. Please switch to tf.sets.difference().\n"
     ]
    }
   ],
   "source": [
    "opt = gpflow.optimizers.Scipy()\n",
    "maxiter = ci_niter(1000)\n",
    "_ = opt.minimize(\n",
    "    gplvm.training_loss,\n",
    "    method=\"BFGS\",\n",
    "    variables=gplvm.trainable_variables,\n",
    "    options=dict(maxiter=maxiter),\n",
    ")"
   ]
  },
  {
   "cell_type": "markdown",
   "metadata": {},
   "source": [
    "## Model analysis\n",
    "GPflow allows you to inspect the learned model hyperparameters."
   ]
  },
  {
   "cell_type": "code",
   "execution_count": 13,
   "metadata": {
    "execution": {
     "iopub.execute_input": "2020-10-07T16:35:04.155363Z",
     "iopub.status.busy": "2020-10-07T16:35:04.154856Z",
     "iopub.status.idle": "2020-10-07T16:35:04.168714Z",
     "shell.execute_reply": "2020-10-07T16:35:04.169073Z"
    }
   },
   "outputs": [
    {
     "data": {
      "text/html": [
       "<table>\n",
       "<thead>\n",
       "<tr><th>name                             </th><th>class    </th><th>transform       </th><th>prior  </th><th>trainable  </th><th>shape   </th><th>dtype  </th><th>value                               </th></tr>\n",
       "</thead>\n",
       "<tbody>\n",
       "<tr><td>BayesianGPLVM.kernel.variance    </td><td>Parameter</td><td>Softplus        </td><td>       </td><td>True       </td><td>()      </td><td>float64</td><td>0.8360327343944993                  </td></tr>\n",
       "<tr><td>BayesianGPLVM.kernel.lengthscales</td><td>Parameter</td><td>Softplus        </td><td>       </td><td>True       </td><td>(2,)    </td><td>float64</td><td>[0.8972874  1.69458501]             </td></tr>\n",
       "<tr><td>BayesianGPLVM.likelihood.variance</td><td>Parameter</td><td>Softplus + Shift</td><td>       </td><td>True       </td><td>()      </td><td>float64</td><td>0.007160909338544993                </td></tr>\n",
       "<tr><td>BayesianGPLVM.X_data_mean        </td><td>Parameter</td><td>Identity        </td><td>       </td><td>True       </td><td>(100, 2)</td><td>float64</td><td>[[-1.74526813, 2.01145018...        </td></tr>\n",
       "<tr><td>BayesianGPLVM.X_data_var         </td><td>Parameter</td><td>Softplus        </td><td>       </td><td>True       </td><td>(100, 2)</td><td>float64</td><td>[[0.0004877, 0.00183545...          </td></tr>\n",
       "<tr><td>BayesianGPLVM.inducing_variable.Z</td><td>Parameter</td><td>Identity        </td><td>       </td><td>True       </td><td>(20, 2) </td><td>float64</td><td>[[1.40426897e+00, -1.75235558e+00...</td></tr>\n",
       "</tbody>\n",
       "</table>"
      ],
      "text/plain": [
       "<IPython.core.display.HTML object>"
      ]
     },
     "metadata": {},
     "output_type": "display_data"
    }
   ],
   "source": [
    "print_summary(gplvm)"
   ]
  },
  {
   "cell_type": "markdown",
   "metadata": {},
   "source": [
    "## Plotting vs. Principle Component Analysis (PCA)\n",
    "The reduction of the dimensionality of the dataset to two dimensions allows us to visualize the learned manifold.\n",
    "We compare the Bayesian GPLVM's latent space to the deterministic PCA's one."
   ]
  },
  {
   "cell_type": "code",
   "execution_count": 14,
   "metadata": {
    "execution": {
     "iopub.execute_input": "2020-10-07T16:35:04.174281Z",
     "iopub.status.busy": "2020-10-07T16:35:04.173848Z",
     "iopub.status.idle": "2020-10-07T16:35:04.403719Z",
     "shell.execute_reply": "2020-10-07T16:35:04.404176Z"
    }
   },
   "outputs": [
    {
     "data": {
      "image/png": "[encoded data removed]",
      "text/plain": [
       "<Figure size 720x432 with 2 Axes>"
      ]
     },
     "metadata": {
      "needs_background": "light"
     },
     "output_type": "display_data"
    }
   ],
   "source": [
    "X_pca = ops.pca_reduce(Y, latent_dim).numpy()\n",
    "gplvm_X_mean = gplvm.X_data_mean.numpy()\n",
    "\n",
    "f, ax = plt.subplots(1, 2, figsize=(10, 6))\n",
    "\n",
    "for i in np.unique(labels):\n",
    "    ax[0].scatter(X_pca[labels == i, 0], X_pca[labels == i, 1], label=i)\n",
    "    ax[1].scatter(gplvm_X_mean[labels == i, 0], gplvm_X_mean[labels == i, 1], label=i)\n",
    "    ax[0].set_title(\"PCA\")\n",
    "    ax[1].set_title(\"Bayesian GPLVM\")"
   ]
  },
  {
   "cell_type": "code",
   "execution_count": null,
   "metadata": {},
   "outputs": [],
   "source": []
  },
  {
   "cell_type": "markdown",
   "metadata": {},
   "source": [
    "## References\n",
    "\\[1\\] Lawrence, Neil D. 'Gaussian process latent variable models for visualization of high dimensional data'. *Advances in Neural Information Processing Systems*. 2004.\n",
    "\n",
    "\\[2\\] Titsias, Michalis, and Neil D. Lawrence. 'Bayesian Gaussian process latent variable model'. *Proceedings of the Thirteenth International Conference on Artificial Intelligence and Statistics*. 2010.\n",
    "\n",
    "\\[3\\] Bishop, Christopher M., and Gwilym D. James. 'Analysis of multiphase flows using dual-energy gamma densitometry and neural networks'. *Nuclear Instruments and Methods in Physics Research Section A: Accelerators, Spectrometers, Detectors and Associated Equipment* 327.2-3 (1993): 580-593."
   ]
  }
 ],
 "metadata": {
  "jupytext": {
   "formats": "ipynb,.pct.py:percent"
  },
  "kernelspec": {
   "display_name": "Python 3",
   "language": "python",
   "name": "python3"
  },
  "language_info": {
   "codemirror_mode": {
    "name": "ipython",
    "version": 3
   },
   "file_extension": ".py",
   "mimetype": "text/x-python",
   "name": "python",
   "nbconvert_exporter": "python",
   "pygments_lexer": "ipython3",
   "version": "3.6.12"
  }
 },
 "nbformat": 4,
 "nbformat_minor": 4
}
