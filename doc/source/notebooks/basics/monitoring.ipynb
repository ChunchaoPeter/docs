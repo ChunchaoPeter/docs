{
 "cells": [
  {
   "cell_type": "markdown",
   "metadata": {},
   "source": [
    "# Monitoring Optimisation\n",
    "\n",
    "In this notebook we cover how to monitor the model and certain metrics during optimisation.\n",
    "\n",
    "## Setup"
   ]
  },
  {
   "cell_type": "code",
   "execution_count": 1,
   "metadata": {},
   "outputs": [],
   "source": [
    "import numpy as np\n",
    "import matplotlib.pyplot as plt\n",
    "import tensorflow as tf\n",
    "\n",
    "import gpflow\n",
    "from gpflow.ci_utils import ci_niter\n",
    "\n",
    "np.random.seed(0)"
   ]
  },
  {
   "cell_type": "markdown",
   "metadata": {},
   "source": [
    "The monitoring functionality lives in `gpflow.monitor`.\n",
    "For now, we import `ModelToTensorBoard`, `ImageToTensorBoard`, `ScalarToTensorBoard` monitoring tasks and `MonitorTaskGroup` and `Monitor`."
   ]
  },
  {
   "cell_type": "code",
   "execution_count": 2,
   "metadata": {},
   "outputs": [],
   "source": [
    "from gpflow.monitor import (\n",
    "    ImageToTensorBoard,\n",
    "    ModelToTensorBoard,\n",
    "    Monitor,\n",
    "    MonitorTaskGroup,\n",
    "    ScalarToTensorBoard,\n",
    ")"
   ]
  },
  {
   "cell_type": "markdown",
   "metadata": {},
   "source": [
    "## Set up data and model"
   ]
  },
  {
   "cell_type": "code",
   "execution_count": 3,
   "metadata": {},
   "outputs": [],
   "source": [
    "# Define some configuration constants.\n",
    "\n",
    "num_data = 100\n",
    "noise_std = 0.1\n",
    "optimisation_steps = ci_niter(100)"
   ]
  },
  {
   "cell_type": "code",
   "execution_count": 4,
   "metadata": {},
   "outputs": [
    {
     "data": {
      "text/plain": [
       "[<matplotlib.lines.Line2D at 0x7fc7b57d36d8>]"
      ]
     },
     "execution_count": 4,
     "metadata": {},
     "output_type": "execute_result"
    },
    {
     "data": {
      "image/png": "[encoded data removed]",
      "text/plain": [
       "<Figure size 432x288 with 1 Axes>"
      ]
     },
     "metadata": {
      "needs_background": "light"
     },
     "output_type": "display_data"
    }
   ],
   "source": [
    "# Create dummy data.\n",
    "\n",
    "X = np.random.randn(num_data, 1)  # [N, 2]\n",
    "Y = np.sin(X) + 0.5 * np.cos(X) + np.random.randn(*X.shape) * noise_std  # [N, 1]\n",
    "plt.plot(X, Y, \"o\")"
   ]
  },
  {
   "cell_type": "code",
   "execution_count": 5,
   "metadata": {
    "lines_to_next_cell": 2
   },
   "outputs": [
    {
     "data": {
      "text/html": [
       "&lt;gpflow.models.gpr.GPR object at 0x7fc7b52ef710&gt;\n",
       "<table>\n",
       "<thead>\n",
       "<tr><th>name                              </th><th>class    </th><th>transform       </th><th>prior  </th><th>trainable  </th><th>shape  </th><th>dtype  </th><th>value               </th></tr>\n",
       "</thead>\n",
       "<tbody>\n",
       "<tr><td>GPR.kernel.kernels[0].variance    </td><td>Parameter</td><td>Softplus        </td><td>       </td><td>True       </td><td>()     </td><td>float64</td><td>1.0                 </td></tr>\n",
       "<tr><td>GPR.kernel.kernels[0].lengthscales</td><td>Parameter</td><td>Softplus        </td><td>       </td><td>True       </td><td>(2,)   </td><td>float64</td><td>[1. 2.]             </td></tr>\n",
       "<tr><td>GPR.kernel.kernels[1].variance    </td><td>Parameter</td><td>Softplus        </td><td>       </td><td>True       </td><td>()     </td><td>float64</td><td>1.0                 </td></tr>\n",
       "<tr><td>GPR.likelihood.variance           </td><td>Parameter</td><td>Softplus + Shift</td><td>       </td><td>True       </td><td>()     </td><td>float64</td><td>0.009999999999999998</td></tr>\n",
       "</tbody>\n",
       "</table>"
      ],
      "text/plain": [
       "<gpflow.models.gpr.GPR object at 0x7fc7b52ef710>\n",
       "╒════════════════════════════════════╤═══════════╤══════════════════╤═════════╤═════════════╤═════════╤═════════╤══════════════════════╕\n",
       "│ name                               │ class     │ transform        │ prior   │ trainable   │ shape   │ dtype   │ value                │\n",
       "╞════════════════════════════════════╪═══════════╪══════════════════╪═════════╪═════════════╪═════════╪═════════╪══════════════════════╡\n",
       "│ GPR.kernel.kernels[0].variance     │ Parameter │ Softplus         │         │ True        │ ()      │ float64 │ 1.0                  │\n",
       "├────────────────────────────────────┼───────────┼──────────────────┼─────────┼─────────────┼─────────┼─────────┼──────────────────────┤\n",
       "│ GPR.kernel.kernels[0].lengthscales │ Parameter │ Softplus         │         │ True        │ (2,)    │ float64 │ [1. 2.]              │\n",
       "├────────────────────────────────────┼───────────┼──────────────────┼─────────┼─────────────┼─────────┼─────────┼──────────────────────┤\n",
       "│ GPR.kernel.kernels[1].variance     │ Parameter │ Softplus         │         │ True        │ ()      │ float64 │ 1.0                  │\n",
       "├────────────────────────────────────┼───────────┼──────────────────┼─────────┼─────────────┼─────────┼─────────┼──────────────────────┤\n",
       "│ GPR.likelihood.variance            │ Parameter │ Softplus + Shift │         │ True        │ ()      │ float64 │ 0.009999999999999998 │\n",
       "╘════════════════════════════════════╧═══════════╧══════════════════╧═════════╧═════════════╧═════════╧═════════╧══════════════════════╛"
      ]
     },
     "execution_count": 5,
     "metadata": {},
     "output_type": "execute_result"
    }
   ],
   "source": [
    "# Set up model and print\n",
    "\n",
    "kernel = gpflow.kernels.SquaredExponential(lengthscales=[1.0, 2.0]) + gpflow.kernels.Linear()\n",
    "model = gpflow.models.GPR((X, Y), kernel, noise_variance=noise_std ** 2)\n",
    "model"
   ]
  },
  {
   "cell_type": "code",
   "execution_count": 6,
   "metadata": {},
   "outputs": [
    {
     "data": {
      "image/png": "[encoded data removed]",
      "text/plain": [
       "<Figure size 432x288 with 1 Axes>"
      ]
     },
     "metadata": {
      "needs_background": "light"
     },
     "output_type": "display_data"
    }
   ],
   "source": [
    "# We define a function that plots the model's prediction (in the form of samples) together with the data.\n",
    "# Importantly, this function has no other argument than `fig: matplotlib.figure.Figure` and `ax: matplotlib.figure.Axes`.\n",
    "\n",
    "\n",
    "def plot_prediction(fig, ax):\n",
    "    Xnew = np.linspace(X.min() - 0.5, X.max() + 0.5, 100).reshape(-1, 1)\n",
    "    Ypred = model.predict_f_samples(Xnew, full_cov=True, num_samples=20)\n",
    "    ax.plot(Xnew.flatten(), np.squeeze(Ypred).T, \"C1\", alpha=0.2)\n",
    "    ax.plot(X, Y, \"o\")\n",
    "\n",
    "\n",
    "# Let's check if the function does the desired plotting\n",
    "fig = plt.figure()\n",
    "ax = fig.subplots()\n",
    "plot_prediction(fig, ax)\n",
    "plt.show()"
   ]
  },
  {
   "cell_type": "markdown",
   "metadata": {},
   "source": [
    "## Set up monitoring tasks\n",
    "\n",
    "We now define the `MonitorTask`s that will be executed during the optimisation.\n",
    "For this tutorial we set up three tasks:\n",
    "- `ModelToTensorBoard`: writes the models hyper-parameters such as `likelihood.variance` and `kernel.lengthscales` to a TensorBoard.\n",
    "- `ImageToTensorBoard`: writes custom matplotlib images to a TensorBoard.\n",
    "- `ScalarToTensorBoard`: writes any scalar value to a TensorBoard. Here, we use it to write the model's training objective."
   ]
  },
  {
   "cell_type": "code",
   "execution_count": 7,
   "metadata": {},
   "outputs": [],
   "source": [
    "log_dir = \"logs\"  # Directory where TensorBoard files will be written.\n",
    "model_task = ModelToTensorBoard(log_dir, model)\n",
    "image_task = ImageToTensorBoard(log_dir, plot_prediction, \"image_samples\")\n",
    "lml_task = ScalarToTensorBoard(log_dir, lambda: model.training_loss(), \"training_objective\")"
   ]
  },
  {
   "cell_type": "markdown",
   "metadata": {},
   "source": [
    "We now group the tasks in a set of fast and slow tasks and pass them to the monitor.\n",
    "This allows us to execute the groups at a different frequency."
   ]
  },
  {
   "cell_type": "code",
   "execution_count": 8,
   "metadata": {
    "lines_to_next_cell": 2
   },
   "outputs": [],
   "source": [
    "# Plotting tasks can be quite slow. We want to run them less frequently.\n",
    "# We group them in a `MonitorTaskGroup` and set the period to 5.\n",
    "slow_tasks = MonitorTaskGroup(image_task, period=5)\n",
    "\n",
    "# The other tasks are fast. We run them at each iteration of the optimisation.\n",
    "fast_tasks = MonitorTaskGroup([model_task, lml_task], period=1)\n",
    "\n",
    "# Both groups are passed to the monitor.\n",
    "# `slow_tasks` will be run five times less frequently than `fast_tasks`.\n",
    "monitor = Monitor(fast_tasks, slow_tasks)"
   ]
  },
  {
   "cell_type": "code",
   "execution_count": 9,
   "metadata": {},
   "outputs": [],
   "source": [
    "training_loss = model.training_loss_closure(\n",
    "    compile=True\n",
    ")  # compile=True (default): compiles using tf.function\n",
    "opt = tf.optimizers.Adam()\n",
    "\n",
    "for step in range(optimisation_steps):\n",
    "    opt.minimize(training_loss, model.trainable_variables)\n",
    "    monitor(step)  # <-- run the monitoring"
   ]
  },
  {
   "cell_type": "markdown",
   "metadata": {
    "lines_to_next_cell": 2
   },
   "source": [
    "TensorBoard is accessible through the browser, after launching the server by running `tensorboard --logdir ${logdir}`.\n",
    "See the [TensorFlow documentation on TensorBoard](https://www.tensorflow.org/tensorboard/get_started) for more information."
   ]
  },
  {
   "cell_type": "markdown",
   "metadata": {},
   "source": [
    "For optimal performance, we can also wrap the monitor call inside `tf.function`:"
   ]
  },
  {
   "cell_type": "code",
   "execution_count": 10,
   "metadata": {
    "lines_to_next_cell": 2
   },
   "outputs": [],
   "source": [
    "opt = tf.optimizers.Adam()\n",
    "\n",
    "log_dir = f\"{log_dir}/compiled\"\n",
    "model_task = ModelToTensorBoard(log_dir, model)\n",
    "lml_task = ScalarToTensorBoard(log_dir, lambda: model.training_loss(), \"training_objective\")\n",
    "# Note that the `ImageToTensorBoard` task cannot be compiled, and is omitted from the monitoring\n",
    "monitor = Monitor(MonitorTaskGroup([model_task, lml_task]))"
   ]
  },
  {
   "cell_type": "markdown",
   "metadata": {
    "lines_to_next_cell": 2
   },
   "source": [
    "In the optimisation loop below we use `tf.range` (rather than Python's built-in range) to avoid re-tracing the `step` function each time."
   ]
  },
  {
   "cell_type": "code",
   "execution_count": 11,
   "metadata": {},
   "outputs": [],
   "source": [
    "@tf.function\n",
    "def step(i):\n",
    "    opt.minimize(model.training_loss, model.trainable_variables)\n",
    "    monitor(i)\n",
    "\n",
    "\n",
    "# Notice the tf.range\n",
    "for i in tf.range(optimisation_steps):\n",
    "    step(i)"
   ]
  },
  {
   "cell_type": "markdown",
   "metadata": {},
   "source": [
    "When opening TensorBoard, you may need to use the command `tensorboard --logdir . --reload_multifile=true`, as multiple `FileWriter` objects are used."
   ]
  }
 ],
 "metadata": {
  "jupytext": {
   "formats": "ipynb,.pct.py:percent"
  },
  "kernelspec": {
   "display_name": "Python 3",
   "language": "python",
   "name": "python3"
  },
  "language_info": {
   "codemirror_mode": {
    "name": "ipython",
    "version": 3
   },
   "file_extension": ".py",
   "mimetype": "text/x-python",
   "name": "python",
   "nbconvert_exporter": "python",
   "pygments_lexer": "ipython3",
   "version": "3.6.7"
  }
 },
 "nbformat": 4,
 "nbformat_minor": 4
}
