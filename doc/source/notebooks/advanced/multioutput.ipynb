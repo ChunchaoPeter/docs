{
 "cells": [
  {
   "cell_type": "markdown",
   "metadata": {},
   "source": [
    "# Multi-output Gaussian processes in GPflow"
   ]
  },
  {
   "cell_type": "markdown",
   "metadata": {},
   "source": [
    "This notebook shows how to construct a multi-output GP model using GPflow, together with different interdomain inducing variables which lead to different approximation properties. GPflow provides a framework for specifying multioutput GP priors, and interdomain approximations which is\n",
    "- modular, by providing a consistent interface for the user of the resulting `SVGP` model,\n",
    "- extensible, by allowing new interdomain variables and kernels to be specified while reusing exising code where possible,\n",
    "- efficient, by allowing the most efficient custom code path to be specified where desired.\n",
    "\n",
    "Getting to grips with the maths and code can be a bit daunting, so to accompany the documentation there is an [in-depth review on arXiv](https://arxiv.org/abs/2003.01115), which provides a unified mathematical framework, together with a high-level description of software design choices in GPflow.\n",
    "\n",
    "This notebook shows the various design choices that can be made, to show the reader the flexibility of the framework. This is done in the hope that an example is provided that can be easily adapted to the special case that the reader wants to implement.\n",
    "\n",
    "A reader who just wants to use a multioutput kernel should simply choose the most efficient set of inducing variables.\n",
    "\n",
    "To cite this framework, please reference our [arXiv paper](https://arxiv.org/abs/2003.01115).\n",
    "```\n",
    "@article{GPflow2020multioutput,\n",
    "  author = {{van der Wilk}, Mark and Dutordoir, Vincent and John, ST and\n",
    "            Artemev, Artem and Adam, Vincent and Hensman, James},\n",
    "  title = {A Framework for Interdomain and Multioutput {G}aussian Processes},\n",
    "  year = {2020},\n",
    "  journal = {arXiv:2003.01115},\n",
    "  url = {https://arxiv.org/abs/2003.01115}\n",
    "}\n",
    "```\n",
    "\n",
    "\\begin{equation}\n",
    "\\newcommand{\\GP}{\\mathcal{GP}}\n",
    "\\newcommand{\\NN}{\\mathcal{N}}\n",
    "\\newcommand{\\LL}{\\mathcal{L}}\n",
    "\\newcommand{\\RR}{\\mathbb{R}}\n",
    "\\newcommand{\\EE}{\\mathbb{E}}\n",
    "\\newcommand{\\valpha}{\\boldsymbol\\alpha}\n",
    "\\newcommand{\\vf}{\\mathbf{f}}\n",
    "\\newcommand{\\vF}{\\mathbf{F}}\n",
    "\\newcommand{\\vg}{\\mathbf{g}}\n",
    "\\newcommand{\\vW}{\\mathbf{W}}\n",
    "\\newcommand{\\vI}{\\mathbf{I}}\n",
    "\\newcommand{\\vZ}{\\mathbf{Z}}\n",
    "\\newcommand{\\vu}{\\mathbf{u}}\n",
    "\\newcommand{\\vU}{\\mathbf{U}}\n",
    "\\newcommand{\\vX}{\\mathbf{X}}\n",
    "\\newcommand{\\vY}{\\mathbf{Y}}\n",
    "\\newcommand{\\identity}{\\mathbb{I}}\n",
    "\\end{equation}\n",
    "\n",
    "\n",
    "\n",
    "## Task\n",
    "We will consider a regression problem for functions $f: \\mathbb{R}^D \\rightarrow \\mathbb{R}^P$. We assume that the dataset is of the form $(X, f_1), \\dots, (X, f_P)$, that is, we observe all the outputs for a particular input location (for cases where there are **not** fully observed outputs for each input, see [A simple demonstration of coregionalization](./coregionalisation.ipynb)).\n",
    "\n",
    "Here we assume a model of the form:\n",
    "\\begin{equation}\n",
    "f(x) = W g(x),\n",
    "\\end{equation}\n",
    "where $g(x) \\in \\mathbb{R}^L$, $f(x) \\in \\mathbb{R}^P$ and $W \\in \\mathbb{R}^{P \\times L}$. We assume that the outputs of $g$ are uncorrelated, and that by *mixing* them with $W$ they become correlated. In this notebook, we show how to build this model using Sparse Variational Gaussian Process (SVGP) for $g$, which scales well with the numbers of data points and outputs.\n",
    "\n",
    "Here we have two options for $g$:\n",
    "1. The output dimensions of $g$ share the same kernel.\n",
    "1. Each output of $g$ has a separate kernel.\n",
    "\n",
    "\n",
    "In addition, we have two further suboptions for the inducing inputs of $g$:\n",
    "1. The instances of $g$ share the same inducing inputs.\n",
    "1. Each output of $g$ has its own set of inducing inputs.\n",
    "\n",
    "The notation is as follows:\n",
    "- $X \\in \\mathbb{R}^{N \\times D}$ denotes the input\n",
    "- $Y \\in \\RR^{N \\times P}$ denotes the output\n",
    "- $k_{1..L}$, $L$ are kernels on $\\RR^{N \\times D}$\n",
    "- $g_{1..L}$, $L$ are independent $\\GP$s  with $g_l \\sim \\GP(0,k_l)$\n",
    "- $f_{1..P}$, $P$ are correlated  $\\GP$s  with $\\vf = \\vW \\vg$"
   ]
  },
  {
   "cell_type": "code",
   "execution_count": 1,
   "metadata": {
    "execution": {
     "iopub.execute_input": "2020-10-08T15:28:39.725737Z",
     "iopub.status.busy": "2020-10-08T15:28:39.719897Z",
     "iopub.status.idle": "2020-10-08T15:28:51.118409Z",
     "shell.execute_reply": "2020-10-08T15:28:51.119655Z"
    }
   },
   "outputs": [],
   "source": [
    "import numpy as np\n",
    "import matplotlib.pyplot as plt\n",
    "import gpflow as gpf\n",
    "import tensorflow as tf\n",
    "\n",
    "from gpflow.utilities import print_summary\n",
    "from gpflow.ci_utils import ci_niter\n",
    "\n",
    "gpf.config.set_default_float(np.float64)\n",
    "gpf.config.set_default_summary_fmt(\"notebook\")\n",
    "np.random.seed(0)\n",
    "%matplotlib inline\n",
    "\n",
    "MAXITER = ci_niter(2000)"
   ]
  },
  {
   "cell_type": "markdown",
   "metadata": {},
   "source": [
    "## Generate synthetic data\n",
    "We create a utility function to generate synthetic data. We assume that:"
   ]
  },
  {
   "cell_type": "code",
   "execution_count": 2,
   "metadata": {
    "execution": {
     "iopub.execute_input": "2020-10-08T15:28:51.125532Z",
     "iopub.status.busy": "2020-10-08T15:28:51.123576Z",
     "iopub.status.idle": "2020-10-08T15:28:51.131266Z",
     "shell.execute_reply": "2020-10-08T15:28:51.132650Z"
    }
   },
   "outputs": [],
   "source": [
    "N = 100  # number of points\n",
    "D = 1  # number of input dimensions\n",
    "M = 15  # number of inducing points\n",
    "L = 2  # number of latent GPs\n",
    "P = 3  # number of observations = output dimensions"
   ]
  },
  {
   "cell_type": "code",
   "execution_count": 3,
   "metadata": {
    "execution": {
     "iopub.execute_input": "2020-10-08T15:28:51.139466Z",
     "iopub.status.busy": "2020-10-08T15:28:51.137312Z",
     "iopub.status.idle": "2020-10-08T15:28:51.154541Z",
     "shell.execute_reply": "2020-10-08T15:28:51.156118Z"
    }
   },
   "outputs": [],
   "source": [
    "def generate_data(N=100):\n",
    "    X = np.random.rand(N)[:, None] * 10 - 5  # Inputs = N x D\n",
    "    G = np.hstack((0.5 * np.sin(3 * X) + X, 3.0 * np.cos(X) - X))  # G = N x L\n",
    "    W = np.array([[0.5, -0.3, 1.5], [-0.4, 0.43, 0.0]])  # L x P\n",
    "    F = np.matmul(G, W)  # N x P\n",
    "    Y = F + np.random.randn(*F.shape) * [0.2, 0.2, 0.2]\n",
    "\n",
    "    return X, Y"
   ]
  },
  {
   "cell_type": "code",
   "execution_count": 4,
   "metadata": {
    "execution": {
     "iopub.execute_input": "2020-10-08T15:28:51.163524Z",
     "iopub.status.busy": "2020-10-08T15:28:51.160221Z",
     "iopub.status.idle": "2020-10-08T15:28:51.173362Z",
     "shell.execute_reply": "2020-10-08T15:28:51.174853Z"
    }
   },
   "outputs": [],
   "source": [
    "X, Y = data = generate_data(N)\n",
    "Zinit = np.linspace(-5, 5, M)[:, None]"
   ]
  },
  {
   "cell_type": "markdown",
   "metadata": {},
   "source": [
    "We create a utility function for plotting:"
   ]
  },
  {
   "cell_type": "code",
   "execution_count": 5,
   "metadata": {
    "execution": {
     "iopub.execute_input": "2020-10-08T15:28:51.216692Z",
     "iopub.status.busy": "2020-10-08T15:28:51.201515Z",
     "iopub.status.idle": "2020-10-08T15:28:51.281897Z",
     "shell.execute_reply": "2020-10-08T15:28:51.282987Z"
    }
   },
   "outputs": [],
   "source": [
    "def plot_model(m, lower=-8.0, upper=8.0):\n",
    "    pX = np.linspace(lower, upper, 100)[:, None]\n",
    "    pY, pYv = m.predict_y(pX)\n",
    "    if pY.ndim == 3:\n",
    "        pY = pY[:, 0, :]\n",
    "    plt.plot(X, Y, \"x\")\n",
    "    plt.gca().set_prop_cycle(None)\n",
    "    plt.plot(pX, pY)\n",
    "    for i in range(pY.shape[1]):\n",
    "        top = pY[:, i] + 2.0 * pYv[:, i] ** 0.5\n",
    "        bot = pY[:, i] - 2.0 * pYv[:, i] ** 0.5\n",
    "        plt.fill_between(pX[:, 0], top, bot, alpha=0.3)\n",
    "    plt.xlabel(\"X\")\n",
    "    plt.ylabel(\"f\")\n",
    "    plt.title(f\"ELBO: {m.elbo(data):.3}\")\n",
    "    plt.plot(Z, Z * 0.0, \"o\")"
   ]
  },
  {
   "cell_type": "markdown",
   "metadata": {},
   "source": [
    "## Model the outputs of $f(x)$ directly\n",
    "The three following examples show how to model the outputs of the model $f(x)$ directly. Mathematically, this case is equivalent to having:\n",
    "\\begin{equation}\n",
    "f(x) = I g(x),\n",
    "\\end{equation}\n",
    "i.e. $W = I$ and $P = L$."
   ]
  },
  {
   "cell_type": "markdown",
   "metadata": {},
   "source": [
    "### 1. Shared independent multi-output kernel (MOK) and shared independent inducing variables\n",
    "Here the priors on all outputs are constrained to have the same kernel hyperparameters. We also share the inducing inputs between all outputs. The different GPs are independent both in the prior and the approximate posterior."
   ]
  },
  {
   "cell_type": "code",
   "execution_count": 6,
   "metadata": {
    "execution": {
     "iopub.execute_input": "2020-10-08T15:28:51.321469Z",
     "iopub.status.busy": "2020-10-08T15:28:51.286904Z",
     "iopub.status.idle": "2020-10-08T15:28:51.401122Z",
     "shell.execute_reply": "2020-10-08T15:28:51.402320Z"
    }
   },
   "outputs": [],
   "source": [
    "# create multi-output kernel\n",
    "kernel = gpf.kernels.SharedIndependent(\n",
    "    gpf.kernels.SquaredExponential() + gpf.kernels.Linear(), output_dim=P\n",
    ")\n",
    "# initialization of inducing input locations (M random points from the training inputs)\n",
    "Z = Zinit.copy()\n",
    "# create multi-output inducing variables from Z\n",
    "iv = gpf.inducing_variables.SharedIndependentInducingVariables(\n",
    "    gpf.inducing_variables.InducingPoints(Z)\n",
    ")"
   ]
  },
  {
   "cell_type": "code",
   "execution_count": 7,
   "metadata": {
    "execution": {
     "iopub.execute_input": "2020-10-08T15:28:51.407531Z",
     "iopub.status.busy": "2020-10-08T15:28:51.406635Z",
     "iopub.status.idle": "2020-10-08T15:28:51.750901Z",
     "shell.execute_reply": "2020-10-08T15:28:51.761382Z"
    }
   },
   "outputs": [
    {
     "data": {
      "text/html": [
       "<table>\n",
       "<thead>\n",
       "<tr><th>name                                      </th><th>class    </th><th>transform       </th><th>prior  </th><th>trainable  </th><th>shape      </th><th>dtype  </th><th>value           </th></tr>\n",
       "</thead>\n",
       "<tbody>\n",
       "<tr><td>SVGP.kernel.kernel.kernels[0].variance    </td><td>Parameter</td><td>Softplus        </td><td>       </td><td>True       </td><td>()         </td><td>float64</td><td>1.0             </td></tr>\n",
       "<tr><td>SVGP.kernel.kernel.kernels[0].lengthscales</td><td>Parameter</td><td>Softplus        </td><td>       </td><td>True       </td><td>()         </td><td>float64</td><td>1.0             </td></tr>\n",
       "<tr><td>SVGP.kernel.kernel.kernels[1].variance    </td><td>Parameter</td><td>Softplus        </td><td>       </td><td>True       </td><td>()         </td><td>float64</td><td>1.0             </td></tr>\n",
       "<tr><td>SVGP.likelihood.variance                  </td><td>Parameter</td><td>Softplus + Shift</td><td>       </td><td>True       </td><td>()         </td><td>float64</td><td>1.0             </td></tr>\n",
       "<tr><td>SVGP.inducing_variable.inducing_variable.Z</td><td>Parameter</td><td>Identity        </td><td>       </td><td>True       </td><td>(15, 1)    </td><td>float64</td><td>[[-5....        </td></tr>\n",
       "<tr><td>SVGP.q_mu                                 </td><td>Parameter</td><td>Identity        </td><td>       </td><td>True       </td><td>(15, 3)    </td><td>float64</td><td>[[0., 0., 0.... </td></tr>\n",
       "<tr><td>SVGP.q_sqrt                               </td><td>Parameter</td><td>FillTriangular  </td><td>       </td><td>True       </td><td>(3, 15, 15)</td><td>float64</td><td>[[[1., 0., 0....</td></tr>\n",
       "</tbody>\n",
       "</table>"
      ],
      "text/plain": [
       "<IPython.core.display.HTML object>"
      ]
     },
     "metadata": {},
     "output_type": "display_data"
    }
   ],
   "source": [
    "# create SVGP model as usual and optimize\n",
    "m = gpf.models.SVGP(kernel, gpf.likelihoods.Gaussian(), inducing_variable=iv, num_latent_gps=P)\n",
    "print_summary(m)"
   ]
  },
  {
   "cell_type": "code",
   "execution_count": 8,
   "metadata": {
    "execution": {
     "iopub.execute_input": "2020-10-08T15:28:51.780998Z",
     "iopub.status.busy": "2020-10-08T15:28:51.778949Z",
     "iopub.status.idle": "2020-10-08T15:29:23.255768Z",
     "shell.execute_reply": "2020-10-08T15:29:23.254683Z"
    }
   },
   "outputs": [],
   "source": [
    "def optimize_model_with_scipy(model):\n",
    "    optimizer = gpf.optimizers.Scipy()\n",
    "    optimizer.minimize(\n",
    "        model.training_loss_closure(data),\n",
    "        variables=model.trainable_variables,\n",
    "        method=\"l-bfgs-b\",\n",
    "        options={\"disp\": True, \"maxiter\": MAXITER},\n",
    "    )\n",
    "\n",
    "\n",
    "optimize_model_with_scipy(m)"
   ]
  },
  {
   "cell_type": "code",
   "execution_count": 9,
   "metadata": {
    "execution": {
     "iopub.execute_input": "2020-10-08T15:29:23.263500Z",
     "iopub.status.busy": "2020-10-08T15:29:23.262696Z",
     "iopub.status.idle": "2020-10-08T15:29:23.354546Z",
     "shell.execute_reply": "2020-10-08T15:29:23.353116Z"
    }
   },
   "outputs": [
    {
     "data": {
      "text/html": [
       "<table>\n",
       "<thead>\n",
       "<tr><th>name                                      </th><th>class    </th><th>transform       </th><th>prior  </th><th>trainable  </th><th>shape      </th><th>dtype  </th><th>value                                               </th></tr>\n",
       "</thead>\n",
       "<tbody>\n",
       "<tr><td>SVGP.kernel.kernel.kernels[0].variance    </td><td>Parameter</td><td>Softplus        </td><td>       </td><td>True       </td><td>()         </td><td>float64</td><td>0.9273340728744635                                  </td></tr>\n",
       "<tr><td>SVGP.kernel.kernel.kernels[0].lengthscales</td><td>Parameter</td><td>Softplus        </td><td>       </td><td>True       </td><td>()         </td><td>float64</td><td>0.7982225737914499                                  </td></tr>\n",
       "<tr><td>SVGP.kernel.kernel.kernels[1].variance    </td><td>Parameter</td><td>Softplus        </td><td>       </td><td>True       </td><td>()         </td><td>float64</td><td>1.213461789503938                                   </td></tr>\n",
       "<tr><td>SVGP.likelihood.variance                  </td><td>Parameter</td><td>Softplus + Shift</td><td>       </td><td>True       </td><td>()         </td><td>float64</td><td>0.03966248736927796                                 </td></tr>\n",
       "<tr><td>SVGP.inducing_variable.inducing_variable.Z</td><td>Parameter</td><td>Identity        </td><td>       </td><td>True       </td><td>(15, 1)    </td><td>float64</td><td>[[-4.83957914...                                    </td></tr>\n",
       "<tr><td>SVGP.q_mu                                 </td><td>Parameter</td><td>Identity        </td><td>       </td><td>True       </td><td>(15, 3)    </td><td>float64</td><td>[[-0.90112327, 0.69862769, -1.47416329...           </td></tr>\n",
       "<tr><td>SVGP.q_sqrt                               </td><td>Parameter</td><td>FillTriangular  </td><td>       </td><td>True       </td><td>(3, 15, 15)</td><td>float64</td><td>[[[1.71169882e-02, 0.00000000e+00, 0.00000000e+00...</td></tr>\n",
       "</tbody>\n",
       "</table>"
      ],
      "text/plain": [
       "<IPython.core.display.HTML object>"
      ]
     },
     "metadata": {},
     "output_type": "display_data"
    }
   ],
   "source": [
    "print_summary(m)"
   ]
  },
  {
   "cell_type": "code",
   "execution_count": 10,
   "metadata": {
    "execution": {
     "iopub.execute_input": "2020-10-08T15:29:23.359823Z",
     "iopub.status.busy": "2020-10-08T15:29:23.359038Z",
     "iopub.status.idle": "2020-10-08T15:29:24.258977Z",
     "shell.execute_reply": "2020-10-08T15:29:24.260349Z"
    }
   },
   "outputs": [
    {
     "data": {
      "image/png": "[encoded data removed]",
      "text/plain": [
       "<Figure size 432x288 with 1 Axes>"
      ]
     },
     "metadata": {
      "needs_background": "light"
     },
     "output_type": "display_data"
    }
   ],
   "source": [
    "# Plot predictions and observations\n",
    "plot_model(m)"
   ]
  },
  {
   "cell_type": "code",
   "execution_count": 11,
   "metadata": {
    "execution": {
     "iopub.execute_input": "2020-10-08T15:29:24.275344Z",
     "iopub.status.busy": "2020-10-08T15:29:24.263017Z",
     "iopub.status.idle": "2020-10-08T15:29:24.279473Z",
     "shell.execute_reply": "2020-10-08T15:29:24.280222Z"
    }
   },
   "outputs": [
    {
     "data": {
      "text/html": [
       "<table>\n",
       "<thead>\n",
       "<tr><th>name                                            </th><th>class    </th><th>transform  </th><th>prior  </th><th>trainable  </th><th>shape  </th><th>dtype  </th><th style=\"text-align: right;\">   value</th></tr>\n",
       "</thead>\n",
       "<tbody>\n",
       "<tr><td>SharedIndependent.kernel.kernels[0].variance    </td><td>Parameter</td><td>Softplus   </td><td>       </td><td>True       </td><td>()     </td><td>float64</td><td style=\"text-align: right;\">0.927334</td></tr>\n",
       "<tr><td>SharedIndependent.kernel.kernels[0].lengthscales</td><td>Parameter</td><td>Softplus   </td><td>       </td><td>True       </td><td>()     </td><td>float64</td><td style=\"text-align: right;\">0.798223</td></tr>\n",
       "<tr><td>SharedIndependent.kernel.kernels[1].variance    </td><td>Parameter</td><td>Softplus   </td><td>       </td><td>True       </td><td>()     </td><td>float64</td><td style=\"text-align: right;\">1.21346 </td></tr>\n",
       "</tbody>\n",
       "</table>"
      ],
      "text/plain": [
       "<IPython.core.display.HTML object>"
      ]
     },
     "metadata": {},
     "output_type": "display_data"
    },
    {
     "data": {
      "text/plain": [
       "<Parameter: dtype=float64, shape=[], fn=\"softplus\", numpy=0.7982225737914499>"
      ]
     },
     "execution_count": 1,
     "metadata": {},
     "output_type": "execute_result"
    }
   ],
   "source": [
    "print_summary(m.kernel)\n",
    "m.kernel.kernel.kernels[0].lengthscales"
   ]
  },
  {
   "cell_type": "markdown",
   "metadata": {},
   "source": [
    "### 2. Separate independent MOK and shared independent inducing variables\n",
    "Here we allow different hyperparameters for the priors of each output. We still share the inducing inputs between all outputs."
   ]
  },
  {
   "cell_type": "code",
   "execution_count": 12,
   "metadata": {
    "execution": {
     "iopub.execute_input": "2020-10-08T15:29:24.285459Z",
     "iopub.status.busy": "2020-10-08T15:29:24.283985Z",
     "iopub.status.idle": "2020-10-08T15:29:24.465300Z",
     "shell.execute_reply": "2020-10-08T15:29:24.466373Z"
    }
   },
   "outputs": [],
   "source": [
    "# Create list of kernels for each output\n",
    "kern_list = [gpf.kernels.SquaredExponential() + gpf.kernels.Linear() for _ in range(P)]\n",
    "# Create multi-output kernel from kernel list\n",
    "kernel = gpf.kernels.SeparateIndependent(kern_list)\n",
    "# initialization of inducing input locations (M random points from the training inputs)\n",
    "Z = Zinit.copy()\n",
    "# create multi-output inducing variables from Z\n",
    "iv = gpf.inducing_variables.SharedIndependentInducingVariables(\n",
    "    gpf.inducing_variables.InducingPoints(Z)\n",
    ")"
   ]
  },
  {
   "cell_type": "code",
   "execution_count": 13,
   "metadata": {
    "execution": {
     "iopub.execute_input": "2020-10-08T15:29:24.473662Z",
     "iopub.status.busy": "2020-10-08T15:29:24.469736Z",
     "iopub.status.idle": "2020-10-08T15:29:24.568061Z",
     "shell.execute_reply": "2020-10-08T15:29:24.568858Z"
    }
   },
   "outputs": [],
   "source": [
    "# create SVGP model as usual and optimize\n",
    "m = gpf.models.SVGP(kernel, gpf.likelihoods.Gaussian(), inducing_variable=iv, num_latent_gps=P)"
   ]
  },
  {
   "cell_type": "code",
   "execution_count": 14,
   "metadata": {
    "execution": {
     "iopub.execute_input": "2020-10-08T15:29:24.657663Z",
     "iopub.status.busy": "2020-10-08T15:29:24.572543Z",
     "iopub.status.idle": "2020-10-08T15:30:30.171299Z",
     "shell.execute_reply": "2020-10-08T15:30:30.170430Z"
    }
   },
   "outputs": [
    {
     "name": "stdout",
     "output_type": "stream",
     "text": [
      "WARNING:tensorflow:From /home/circleci/.local/lib/python3.6/site-packages/tensorflow/python/util/deprecation.py:574: calling map_fn_v2 (from tensorflow.python.ops.map_fn) with dtype is deprecated and will be removed in a future version.\n",
      "Instructions for updating:\n",
      "Use fn_output_signature instead\n"
     ]
    }
   ],
   "source": [
    "optimize_model_with_scipy(m)"
   ]
  },
  {
   "cell_type": "code",
   "execution_count": 15,
   "metadata": {
    "execution": {
     "iopub.execute_input": "2020-10-08T15:30:30.175282Z",
     "iopub.status.busy": "2020-10-08T15:30:30.174524Z",
     "iopub.status.idle": "2020-10-08T15:30:30.261278Z",
     "shell.execute_reply": "2020-10-08T15:30:30.262032Z"
    }
   },
   "outputs": [
    {
     "data": {
      "text/html": [
       "<table>\n",
       "<thead>\n",
       "<tr><th>name                                                  </th><th>class    </th><th>transform  </th><th>prior  </th><th>trainable  </th><th>shape  </th><th>dtype  </th><th style=\"text-align: right;\">   value</th></tr>\n",
       "</thead>\n",
       "<tbody>\n",
       "<tr><td>SeparateIndependent.kernels[0].kernels[0].variance    </td><td>Parameter</td><td>Softplus   </td><td>       </td><td>True       </td><td>()     </td><td>float64</td><td style=\"text-align: right;\">0.864788</td></tr>\n",
       "<tr><td>SeparateIndependent.kernels[0].kernels[0].lengthscales</td><td>Parameter</td><td>Softplus   </td><td>       </td><td>True       </td><td>()     </td><td>float64</td><td style=\"text-align: right;\">0.934927</td></tr>\n",
       "<tr><td>SeparateIndependent.kernels[0].kernels[1].variance    </td><td>Parameter</td><td>Softplus   </td><td>       </td><td>True       </td><td>()     </td><td>float64</td><td style=\"text-align: right;\">0.862492</td></tr>\n",
       "<tr><td>SeparateIndependent.kernels[1].kernels[0].variance    </td><td>Parameter</td><td>Softplus   </td><td>       </td><td>True       </td><td>()     </td><td>float64</td><td style=\"text-align: right;\">0.750744</td></tr>\n",
       "<tr><td>SeparateIndependent.kernels[1].kernels[0].lengthscales</td><td>Parameter</td><td>Softplus   </td><td>       </td><td>True       </td><td>()     </td><td>float64</td><td style=\"text-align: right;\">0.969515</td></tr>\n",
       "<tr><td>SeparateIndependent.kernels[1].kernels[1].variance    </td><td>Parameter</td><td>Softplus   </td><td>       </td><td>True       </td><td>()     </td><td>float64</td><td style=\"text-align: right;\">0.530366</td></tr>\n",
       "<tr><td>SeparateIndependent.kernels[2].kernels[0].variance    </td><td>Parameter</td><td>Softplus   </td><td>       </td><td>True       </td><td>()     </td><td>float64</td><td style=\"text-align: right;\">1.11421 </td></tr>\n",
       "<tr><td>SeparateIndependent.kernels[2].kernels[0].lengthscales</td><td>Parameter</td><td>Softplus   </td><td>       </td><td>True       </td><td>()     </td><td>float64</td><td style=\"text-align: right;\">0.749493</td></tr>\n",
       "<tr><td>SeparateIndependent.kernels[2].kernels[1].variance    </td><td>Parameter</td><td>Softplus   </td><td>       </td><td>True       </td><td>()     </td><td>float64</td><td style=\"text-align: right;\">2.21434 </td></tr>\n",
       "</tbody>\n",
       "</table>"
      ],
      "text/plain": [
       "<IPython.core.display.HTML object>"
      ]
     },
     "metadata": {},
     "output_type": "display_data"
    }
   ],
   "source": [
    "print_summary(m.kernel)"
   ]
  },
  {
   "cell_type": "code",
   "execution_count": 16,
   "metadata": {
    "execution": {
     "iopub.execute_input": "2020-10-08T15:30:30.265940Z",
     "iopub.status.busy": "2020-10-08T15:30:30.265071Z",
     "iopub.status.idle": "2020-10-08T15:30:31.667466Z",
     "shell.execute_reply": "2020-10-08T15:30:31.668267Z"
    }
   },
   "outputs": [
    {
     "data": {
      "image/png": "[encoded data removed]",
      "text/plain": [
       "<Figure size 432x288 with 1 Axes>"
      ]
     },
     "metadata": {
      "needs_background": "light"
     },
     "output_type": "display_data"
    }
   ],
   "source": [
    "plot_model(m)"
   ]
  },
  {
   "cell_type": "code",
   "execution_count": 17,
   "metadata": {
    "execution": {
     "iopub.execute_input": "2020-10-08T15:30:31.672032Z",
     "iopub.status.busy": "2020-10-08T15:30:31.671262Z",
     "iopub.status.idle": "2020-10-08T15:30:31.680333Z",
     "shell.execute_reply": "2020-10-08T15:30:31.681036Z"
    }
   },
   "outputs": [
    {
     "data": {
      "text/plain": [
       "[<Parameter: dtype=float64, shape=[], fn=\"softplus\", numpy=0.9349267871646398>,\n",
       " <Parameter: dtype=float64, shape=[], fn=\"softplus\", numpy=0.9695145348899655>,\n",
       " <Parameter: dtype=float64, shape=[], fn=\"softplus\", numpy=0.7494932498165977>]"
      ]
     },
     "execution_count": 1,
     "metadata": {},
     "output_type": "execute_result"
    }
   ],
   "source": [
    "[k.kernels[0].lengthscales for k in m.kernel.kernels]"
   ]
  },
  {
   "cell_type": "markdown",
   "metadata": {},
   "source": [
    "### 3. Separate independent kernel and separate independent inducing variables\n",
    "Here we allow different hyperparameters for the priors of each output. We now allow different inducing inputs for each output."
   ]
  },
  {
   "cell_type": "code",
   "execution_count": 18,
   "metadata": {
    "execution": {
     "iopub.execute_input": "2020-10-08T15:30:31.758231Z",
     "iopub.status.busy": "2020-10-08T15:30:31.757523Z",
     "iopub.status.idle": "2020-10-08T15:30:31.956178Z",
     "shell.execute_reply": "2020-10-08T15:30:31.957511Z"
    }
   },
   "outputs": [],
   "source": [
    "# Create list of kernels for each output\n",
    "kern_list = [gpf.kernels.SquaredExponential() + gpf.kernels.Linear() for _ in range(P)]\n",
    "# Create multi-output kernel from kernel list\n",
    "kernel = gpf.kernels.SeparateIndependent(kern_list)\n",
    "# initialization of inducing input locations, one set of locations per output\n",
    "Zs = [Zinit.copy() for _ in range(P)]\n",
    "# initialize as list inducing inducing variables\n",
    "iv_list = [gpf.inducing_variables.InducingPoints(Z) for Z in Zs]\n",
    "# create multi-output inducing variables from iv_list\n",
    "iv = gpf.inducing_variables.SeparateIndependentInducingVariables(iv_list)"
   ]
  },
  {
   "cell_type": "markdown",
   "metadata": {},
   "source": [
    "**NOTE:** While the inducing points are independent, there needs to be the same number of inducing points per dimension."
   ]
  },
  {
   "cell_type": "code",
   "execution_count": 19,
   "metadata": {
    "execution": {
     "iopub.execute_input": "2020-10-08T15:30:31.969654Z",
     "iopub.status.busy": "2020-10-08T15:30:31.968028Z",
     "iopub.status.idle": "2020-10-08T15:30:32.063770Z",
     "shell.execute_reply": "2020-10-08T15:30:32.064899Z"
    }
   },
   "outputs": [],
   "source": [
    "# create SVGP model as usual and optimize\n",
    "m = gpf.models.SVGP(kernel, gpf.likelihoods.Gaussian(), inducing_variable=iv, num_latent_gps=P)"
   ]
  },
  {
   "cell_type": "code",
   "execution_count": 20,
   "metadata": {
    "execution": {
     "iopub.execute_input": "2020-10-08T15:30:32.070403Z",
     "iopub.status.busy": "2020-10-08T15:30:32.068599Z",
     "iopub.status.idle": "2020-10-08T15:31:35.464219Z",
     "shell.execute_reply": "2020-10-08T15:31:35.464904Z"
    }
   },
   "outputs": [],
   "source": [
    "optimize_model_with_scipy(m)"
   ]
  },
  {
   "cell_type": "code",
   "execution_count": 21,
   "metadata": {
    "execution": {
     "iopub.execute_input": "2020-10-08T15:31:35.468585Z",
     "iopub.status.busy": "2020-10-08T15:31:35.467846Z",
     "iopub.status.idle": "2020-10-08T15:31:37.487380Z",
     "shell.execute_reply": "2020-10-08T15:31:37.491288Z"
    }
   },
   "outputs": [
    {
     "data": {
      "image/png": "[encoded data removed]",
      "text/plain": [
       "<Figure size 432x288 with 1 Axes>"
      ]
     },
     "metadata": {
      "needs_background": "light"
     },
     "output_type": "display_data"
    }
   ],
   "source": [
    "plot_model(m)"
   ]
  },
  {
   "cell_type": "markdown",
   "metadata": {},
   "source": [
    "The following plot shows that we use different inducing *inputs* in each output dimension."
   ]
  },
  {
   "cell_type": "code",
   "execution_count": 22,
   "metadata": {
    "execution": {
     "iopub.execute_input": "2020-10-08T15:31:37.557863Z",
     "iopub.status.busy": "2020-10-08T15:31:37.557010Z",
     "iopub.status.idle": "2020-10-08T15:31:39.666500Z",
     "shell.execute_reply": "2020-10-08T15:31:39.667602Z"
    }
   },
   "outputs": [
    {
     "data": {
      "image/png": "[encoded data removed]",
      "text/plain": [
       "<Figure size 432x288 with 1 Axes>"
      ]
     },
     "metadata": {
      "needs_background": "light"
     },
     "output_type": "display_data"
    }
   ],
   "source": [
    "for i in range(len(m.inducing_variable.inducing_variable_list)):\n",
    "    q_mu_unwhitened, q_var_unwhitened = m.predict_f(m.inducing_variable.inducing_variable_list[i].Z)\n",
    "    plt.plot(\n",
    "        m.inducing_variable.inducing_variable_list[i].Z.numpy(),\n",
    "        q_mu_unwhitened[:, i, None].numpy(),\n",
    "        \"o\",\n",
    "    )\n",
    "plt.gca().set_xticks(np.linspace(-6, 6, 20), minor=True)\n",
    "plt.gca().set_yticks(np.linspace(-9, 9, 20), minor=True)\n",
    "plt.grid(which=\"minor\")"
   ]
  },
  {
   "cell_type": "code",
   "execution_count": 23,
   "metadata": {
    "execution": {
     "iopub.execute_input": "2020-10-08T15:31:39.673553Z",
     "iopub.status.busy": "2020-10-08T15:31:39.671633Z",
     "iopub.status.idle": "2020-10-08T15:31:39.681987Z",
     "shell.execute_reply": "2020-10-08T15:31:39.682924Z"
    }
   },
   "outputs": [
    {
     "data": {
      "text/plain": [
       "ListWrapper([<gpflow.inducing_variables.inducing_variables.InducingPoints object at 0x7f6ca804a630>, <gpflow.inducing_variables.inducing_variables.InducingPoints object at 0x7f6ca804a5c0>, <gpflow.inducing_variables.inducing_variables.InducingPoints object at 0x7f6ca804aa20>])"
      ]
     },
     "execution_count": 1,
     "metadata": {},
     "output_type": "execute_result"
    }
   ],
   "source": [
    "m.inducing_variable.inducing_variable_list"
   ]
  },
  {
   "cell_type": "markdown",
   "metadata": {},
   "source": [
    "## Model $f(x)$ by doing inference in the $g$ space\n",
    "### Mixed kernel and uncorrelated inducing variables\n",
    "\n",
    "Remember the general case: $f(x) = W g(x)$, where $g(x) \\in \\mathbb{R}^L$, $f(x) \\in \\mathbb{R}^P$ and $W \\in \\mathbb{R}^{P \\times L}$, where $L \\leq P$.\n",
    "We assume that the outputs of $g$ are uncorrelated, and by *mixing* them with $W$ they become correlated.\n",
    "With this setup we perform the optimal routine to calculate the conditional. Namely, calculate the conditional of the uncorrelated latent $g$ and afterwards project the mean and variance using the mixing matrix: $\\mu_f = W \\mu_g$ and $\\Sigma_f = W\\Sigma_g W^\\top$\n",
    "\n",
    "- $K_{uu} = L \\times M \\times M$\n",
    "- $K_{uf} = L \\times M \\times N$"
   ]
  },
  {
   "cell_type": "code",
   "execution_count": 24,
   "metadata": {
    "execution": {
     "iopub.execute_input": "2020-10-08T15:31:39.687395Z",
     "iopub.status.busy": "2020-10-08T15:31:39.686003Z",
     "iopub.status.idle": "2020-10-08T15:31:39.785213Z",
     "shell.execute_reply": "2020-10-08T15:31:39.786403Z"
    }
   },
   "outputs": [],
   "source": [
    "# Create list of kernels for each output\n",
    "kern_list = [gpf.kernels.SquaredExponential() + gpf.kernels.Linear() for _ in range(L)]\n",
    "# Create multi-output kernel from kernel list\n",
    "kernel = gpf.kernels.LinearCoregionalization(\n",
    "    kern_list, W=np.random.randn(P, L)\n",
    ")  # Notice that we initialise the mixing matrix W\n",
    "# initialisation of inducing input locations (M random points from the training inputs)\n",
    "Z = Zinit.copy()\n",
    "# create multi-output inducing variables from Z\n",
    "iv = gpf.inducing_variables.SharedIndependentInducingVariables(\n",
    "    gpf.inducing_variables.InducingPoints(Z)\n",
    ")"
   ]
  },
  {
   "cell_type": "code",
   "execution_count": 25,
   "metadata": {
    "execution": {
     "iopub.execute_input": "2020-10-08T15:31:39.855984Z",
     "iopub.status.busy": "2020-10-08T15:31:39.855133Z",
     "iopub.status.idle": "2020-10-08T15:31:39.870970Z",
     "shell.execute_reply": "2020-10-08T15:31:39.871567Z"
    }
   },
   "outputs": [],
   "source": [
    "# initialize mean of variational posterior to be of shape MxL\n",
    "q_mu = np.zeros((M, L))\n",
    "# initialize \\sqrt(Σ) of variational posterior to be of shape LxMxM\n",
    "q_sqrt = np.repeat(np.eye(M)[None, ...], L, axis=0) * 1.0\n",
    "\n",
    "# create SVGP model as usual and optimize\n",
    "m = gpf.models.SVGP(\n",
    "    kernel, gpf.likelihoods.Gaussian(), inducing_variable=iv, q_mu=q_mu, q_sqrt=q_sqrt\n",
    ")"
   ]
  },
  {
   "cell_type": "code",
   "execution_count": 26,
   "metadata": {
    "execution": {
     "iopub.execute_input": "2020-10-08T15:31:39.876997Z",
     "iopub.status.busy": "2020-10-08T15:31:39.875401Z",
     "iopub.status.idle": "2020-10-08T15:31:55.100648Z",
     "shell.execute_reply": "2020-10-08T15:31:55.099867Z"
    }
   },
   "outputs": [],
   "source": [
    "optimize_model_with_scipy(m)"
   ]
  },
  {
   "cell_type": "code",
   "execution_count": 27,
   "metadata": {
    "execution": {
     "iopub.execute_input": "2020-10-08T15:31:55.105936Z",
     "iopub.status.busy": "2020-10-08T15:31:55.104780Z",
     "iopub.status.idle": "2020-10-08T15:31:55.425007Z",
     "shell.execute_reply": "2020-10-08T15:31:55.425374Z"
    }
   },
   "outputs": [
    {
     "data": {
      "image/png": "[encoded data removed]",
      "text/plain": [
       "<Figure size 432x288 with 1 Axes>"
      ]
     },
     "metadata": {
      "needs_background": "light"
     },
     "output_type": "display_data"
    }
   ],
   "source": [
    "plot_model(m)"
   ]
  },
  {
   "cell_type": "markdown",
   "metadata": {},
   "source": [
    "## Illustration of GPflow's multi-output capabilities\n",
    "This section shows the inheritance structure in GPflow's multi-output framework."
   ]
  },
  {
   "cell_type": "markdown",
   "metadata": {},
   "source": [
    "### Multi-output kernels (MOK) class diagram\n",
    "We include three multi-output kernels:\n",
    "- `SharedIndependent`: This kernel is included mainly as an illustration of specifying a conditional using the multiple dispatch framework. The same functionality is provided by using a normal kernel and passing in multiple approximate posteriors by stacking `q_mu` and `q_sqrt`.\n",
    "- `SeparateIndependent`: This kernel allows you to use different priors for each output GP.\n",
    "- `LinearCoregionalization`: This kernel describes the prior of the linear model of coregionalization. As shown previously, this implementation supports various inducing point approximations.\n",
    "![Multi-output kernels](./multioutput_kernels.svg)\n",
    "\n",
    "We include several base classes. Two are noteworthy:\n",
    "- `MultioutputKernel` is included to be the base class for all multi-output kernels.\n",
    "- `IndepedentLatent` is the base class for all multi-output kernels which are constructed from independent latent processes. Including this kernel allows the specification of a default approximation method which, while not the most efficient, does take advantage of _some_ structure. It can be applied to _any_ kernel constructed from independent latent processes.\n",
    "\n",
    "There is a similarity in the meaning of `SeparateIndependent` and `IndependentLatent`. Both kernels indicate that independent processes are used, and that $\\mathbf{K}_{\\bf uu}$ can therefore be represented as a `[L, M, M]` tensor. It could therefore be suggested that `SeparateIndependent` be the parent class of all \"independent latent\" kernels, instead of having a separate `IndependentLatent` class. We decided against this because:\n",
    "- this would increase the complexity in specifying `conditionals()` for the otherwise simple multi-output kernels `SeparateIndependent` and `SharedIndependent`.\n",
    "- we did not want to specify too much of an implementation in `IndependentLatent`, leaving implementation details to child classes. Using `SeparateIndependent` as the base class would force all child classes to be a `Combination` kernel."
   ]
  },
  {
   "cell_type": "markdown",
   "metadata": {},
   "source": [
    "### Multi-output inducing variables class diagram\n",
    "![Multi-output features](./multioutput_features.svg)\n",
    "\n",
    "#### Inducing points\n",
    "The goal of this class is to provide inducing variables that can be used with _any_ kernel, even if the method ends up being slow.\n",
    "\n",
    "The multiouput framework extends `InducingPoints` to work with multi-output kernels. Just like for single-output kernels, we want `InducingPoints` to work for all `MultioutputKernel`s. We do this by defining `InducingPoints` to take _all_ outputs for specific inducing inputs as inducing variables.\n",
    "\n",
    "#### Fallback shared/separate independent inducing variables\n",
    "The goal of these classes is to provide a reasonably efficient implementation for kernels that give exploitable independence structure in the prior of inducing variables (that is, subclasses of `IndependentLatent`), while only needing to implement `Kuu()` and `Kuf()` methods.\n",
    "\n",
    "#### Shared/separate independent inducing variables\n",
    "The goal of these classes is to provide the most efficient code path for kernels that allow exploiting independence structure in the prior of inducing variables.\n",
    "\n",
    "For more specialized multi-output kernels (i.e. `{Shared|Separate}Independent` or `LinearCoregionalization`) we define `{Shared|Separate}IndependentInducingVariables`. These wrap (a list of) single-output inducing variables to define groups of a-priori independent inducing variables, which leads to a $\\mathbf{K}_{\\bf uu}$ that can be represented as a `[L, M, M]` tensor. We saw the use of these previously.\n",
    "\n",
    "`{Shared|Separate}IndependentInducingVariables` inherit from `Fallback{Shared|Separate}IndependentInducingVariables`, so the multiple dispatch will fall back on the slower but general implementation."
   ]
  },
  {
   "cell_type": "markdown",
   "metadata": {},
   "source": [
    "### Implemented combinations\n",
    "Multiple dispatch is applied to both `Kuu()`, `Kuf()`, and `conditional()`. The return values of the covariances can therefore be tailored to a specific implementation of `conditional()`. The following table lists combinations which are currently available in GPflow. Thanks to the multiple dispatch code, implementing your own outside of GPflow should require only a small amount of code!\n",
    "\n",
    "| Inducing variable class                                      | Kernel                  | Kuu           | Kuf           | conditional                         | note                                                                                                                                                                                                                                                                                           |\n",
    "|----------------------------------------------|-------------------------|---------------|---------------|-------------------------------------|------------------------------------------------------------------------------------------------------------------------------------------------------------------------------------------------------------------------------------------------------------------------------------------------|\n",
    "| `InducingPoints`                               | `MultioutputKernel`       | `[M, P, M, P]` | `[M, P, N, P]` | `inducing_point_conditional()`, which calls `fully_correlated_conditional()`       | Works for all kernels, but might be very inefficient. In this case `q_mu` and `q_sqrt` should have shapes of `[1, MP]` and `[1, MP, MP]`  |\n",
    "| `SharedIndependentInducingVariables`           | `SharedIndependent`       | `[M, M]`         | `[M, N]`         | `shared_independent_conditional()`, which calls `base_conditional()`                    | The combination of these two classes is in a sense redundant, because we can achieve the same behavior by using the single output Kernel and InducingVariable classes. They are added for illustrative purposes. Thanks to the conditional dispatch, the most efficient code path is used. |\n",
    "| `SeparateIndependentInducingVariables`         | `SharedIndependent`       | `[P, M, M]`     | `[P, M, N]`     | `separate_independent_conditional()`, which calls `base_conditional()` P times               | We loop P times over the `base_conditional()`         |\n",
    "| `SeparateIndependentInducingVariable`         | `SeparateIndependent`     | `[P, M, M]`     | `[P, M, N]`     |  `separate_independent_conditional()`, which calls `base_conditional()` P times                | We loop P times over the `base_conditional()`           |\n",
    "| `SharedIndependentInducingVariables`           | `SeparateIndependent`     | `[P, M, M]`     | `[P, M, N]`     | `separate_independent_conditional()`, which calls `base_conditional()` P times                | We loop P times over the `base_conditional()`        |\n",
    "| `FallbackSharedIndependentInducingVariables`   | `IndependentLatent`       | `[L, M, M]`     | `[M, L, N, P]` | `fallback_independent_latent_conditional()`, which calls `independent_interdomain_conditional()` | Implementation which only requires custom `Kuu()` and `Kuf()` |\n",
    "| `FallbackSeparateIndependentInducingVariable` | `IndependentLatent`       | `[L, M, M]`     | `[M, L, N, P]` | `fallback_independent_latent_conditional()`, which calls `independent_interdomain_conditional()` | Implementation which only requires custom `Kuu()` and `Kuf()`  |\n",
    "| `SharedIndependentInducingVariables`           | `LinearCoregionalization` | `[L, M, M]`     | `[L, M, N]`     | `coregionalization_conditional()`, which calls `base_conditional()`                    | This is the most efficient implementation for linear coregionalization. The inducing outputs live in g-space. Here we use the output of the base conditional and project the mean and covariance with the mixing matrix W.                                                                    |\n",
    "| `SeparateIndependentInducingVariables`         | `LinearCoregionalization` | `[L, M, M]`     | `[L, M, N]`     | base_conditional                    | This is the most efficient implementation for linear coregionalization. The inducing outputs live in g-space. Here we use the output of the base conditional and project the mean and covariance with the mixing matrix W.                                                                    |"
   ]
  },
  {
   "cell_type": "markdown",
   "metadata": {},
   "source": [
    "## Debugging: introspect\n",
    "\n",
    "Given all these possibilities it can be hard to determine which conditional will be called for which set of kernel and inducing variable. The following method lets you proactively introspect which implementation will be executed. This can be useful when debugging new code."
   ]
  },
  {
   "cell_type": "code",
   "execution_count": 28,
   "metadata": {
    "execution": {
     "iopub.execute_input": "2020-10-08T15:31:55.431645Z",
     "iopub.status.busy": "2020-10-08T15:31:55.431108Z",
     "iopub.status.idle": "2020-10-08T15:31:55.434140Z",
     "shell.execute_reply": "2020-10-08T15:31:55.433759Z"
    }
   },
   "outputs": [
    {
     "data": {
      "text/plain": [
       "<code object shared_independent_conditional at 0x7f6d16e7a930, file \"/home/circleci/.local/lib/python3.6/site-packages/gpflow/conditionals/multioutput/conditionals.py\", line 45>"
      ]
     },
     "execution_count": 1,
     "metadata": {},
     "output_type": "execute_result"
    }
   ],
   "source": [
    "def inspect_conditional(inducing_variable_type, kernel_type):\n",
    "    \"\"\"\n",
    "    Helper function returning the exact implementation called\n",
    "    by the multiple dispatch `conditional` given the type of\n",
    "    kernel and inducing variable.\n",
    "\n",
    "    :param inducing_variable_type:\n",
    "        Type of the inducing variable\n",
    "    :param kernel_type:\n",
    "        Type of the kernel\n",
    "\n",
    "    :return: String\n",
    "        Contains the name, the file and the linenumber of the\n",
    "        implementation.\n",
    "    \"\"\"\n",
    "    import inspect\n",
    "    from gpflow.conditionals import conditional\n",
    "\n",
    "    implementation = conditional.dispatch(object, inducing_variable_type, kernel_type, object)\n",
    "    info = dict(inspect.getmembers(implementation))\n",
    "    return info[\"__code__\"]\n",
    "\n",
    "\n",
    "# Example:\n",
    "inspect_conditional(\n",
    "    gpf.inducing_variables.SharedIndependentInducingVariables, gpf.kernels.SharedIndependent\n",
    ")"
   ]
  },
  {
   "cell_type": "markdown",
   "metadata": {},
   "source": [
    "## Further Reading:\n",
    "- [A simple demonstration of coregionalization](./coregionalisation.ipynb), which details other GPflow features for multi-output prediction without fully observed outputs."
   ]
  }
 ],
 "metadata": {
  "jupytext": {
   "encoding": "# -*- coding: utf-8 -*-",
   "formats": "ipynb,.pct.py:percent"
  },
  "kernelspec": {
   "display_name": "Python 3",
   "language": "python",
   "name": "python3"
  },
  "language_info": {
   "codemirror_mode": {
    "name": "ipython",
    "version": 3
   },
   "file_extension": ".py",
   "mimetype": "text/x-python",
   "name": "python",
   "nbconvert_exporter": "python",
   "pygments_lexer": "ipython3",
   "version": "3.6.12"
  }
 },
 "nbformat": 4,
 "nbformat_minor": 4
}
